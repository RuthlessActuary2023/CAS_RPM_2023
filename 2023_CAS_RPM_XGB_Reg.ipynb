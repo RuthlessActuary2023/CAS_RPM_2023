{
  "nbformat": 4,
  "nbformat_minor": 0,
  "metadata": {
    "colab": {
      "provenance": [],
      "include_colab_link": true
    },
    "kernelspec": {
      "name": "ir",
      "display_name": "R"
    },
    "language_info": {
      "name": "R"
    }
  },
  "cells": [
    {
      "cell_type": "markdown",
      "metadata": {
        "id": "view-in-github",
        "colab_type": "text"
      },
      "source": [
        "<a href=\"https://colab.research.google.com/github/RuthlessActuary2023/CAS_RPM_2023/blob/main/2023_CAS_RPM_XGB_Reg.ipynb\" target=\"_parent\"><img src=\"https://colab.research.google.com/assets/colab-badge.svg\" alt=\"Open In Colab\"/></a>"
      ]
    },
    {
      "cell_type": "markdown",
      "source": [
        "# 2023 CAS RPM GBM\n",
        "### Regression using XGBoost"
      ],
      "metadata": {
        "id": "oOyCo23066Ez"
      }
    },
    {
      "cell_type": "markdown",
      "source": [
        "### Install Required Packages"
      ],
      "metadata": {
        "id": "Mllze2pe6zPO"
      }
    },
    {
      "cell_type": "code",
      "source": [
        "install.packages('dplyr')\n",
        "install.packages('tidyverse')\n",
        "install.packages('xgboost')\n",
        "install.packages('ggplot2')\n",
        "install.packages('plotly')"
      ],
      "metadata": {
        "id": "YAuTw9V77CIH",
        "colab": {
          "base_uri": "https://localhost:8080/"
        },
        "outputId": "1501e66f-21f6-415f-c74e-5db8ab8efba2"
      },
      "execution_count": 1,
      "outputs": [
        {
          "output_type": "stream",
          "name": "stderr",
          "text": [
            "Installing package into ‘/usr/local/lib/R/site-library’\n",
            "(as ‘lib’ is unspecified)\n",
            "\n",
            "Installing package into ‘/usr/local/lib/R/site-library’\n",
            "(as ‘lib’ is unspecified)\n",
            "\n",
            "also installing the dependencies ‘textshaping’, ‘conflicted’, ‘jsonlite’, ‘ragg’, ‘stringr’\n",
            "\n",
            "\n",
            "Warning message in install.packages(\"tidyverse\"):\n",
            "“installation of package ‘textshaping’ had non-zero exit status”\n",
            "Warning message in install.packages(\"tidyverse\"):\n",
            "“installation of package ‘ragg’ had non-zero exit status”\n",
            "Warning message in install.packages(\"tidyverse\"):\n",
            "“installation of package ‘tidyverse’ had non-zero exit status”\n",
            "Installing package into ‘/usr/local/lib/R/site-library’\n",
            "(as ‘lib’ is unspecified)\n",
            "\n",
            "Installing package into ‘/usr/local/lib/R/site-library’\n",
            "(as ‘lib’ is unspecified)\n",
            "\n",
            "Installing package into ‘/usr/local/lib/R/site-library’\n",
            "(as ‘lib’ is unspecified)\n",
            "\n",
            "also installing the dependencies ‘Rcpp’, ‘later’, ‘htmlwidgets’, ‘lazyeval’, ‘crosstalk’, ‘promises’\n",
            "\n",
            "\n"
          ]
        }
      ]
    },
    {
      "cell_type": "markdown",
      "source": [
        "### Load Required Packages"
      ],
      "metadata": {
        "id": "vo87LFxx-9DJ"
      }
    },
    {
      "cell_type": "code",
      "source": [
        "require(dplyr)\n",
        "require(tidyverse)\n",
        "require(xgboost)\n",
        "library(ggplot2)\n",
        "library(plotly)"
      ],
      "metadata": {
        "id": "3pJkLOp27GUp",
        "colab": {
          "base_uri": "https://localhost:8080/"
        },
        "outputId": "c36e1960-6ecc-4fa4-804f-e862e00cacff"
      },
      "execution_count": 2,
      "outputs": [
        {
          "output_type": "stream",
          "name": "stderr",
          "text": [
            "Loading required package: dplyr\n",
            "\n",
            "\n",
            "Attaching package: ‘dplyr’\n",
            "\n",
            "\n",
            "The following objects are masked from ‘package:stats’:\n",
            "\n",
            "    filter, lag\n",
            "\n",
            "\n",
            "The following objects are masked from ‘package:base’:\n",
            "\n",
            "    intersect, setdiff, setequal, union\n",
            "\n",
            "\n",
            "Loading required package: tidyverse\n",
            "\n",
            "Warning message in system(\"timedatectl\", intern = TRUE):\n",
            "“running command 'timedatectl' had status 1”\n",
            "── \u001b[1mAttaching packages\u001b[22m ─────────────────────────────────────── tidyverse 1.3.1 ──\n",
            "\n",
            "\u001b[32m✔\u001b[39m \u001b[34mggplot2\u001b[39m 3.4.1     \u001b[32m✔\u001b[39m \u001b[34mpurrr  \u001b[39m 1.0.1\n",
            "\u001b[32m✔\u001b[39m \u001b[34mtibble \u001b[39m 3.1.8     \u001b[32m✔\u001b[39m \u001b[34mstringr\u001b[39m 1.5.0\n",
            "\u001b[32m✔\u001b[39m \u001b[34mtidyr  \u001b[39m 1.3.0     \u001b[32m✔\u001b[39m \u001b[34mforcats\u001b[39m 1.0.0\n",
            "\u001b[32m✔\u001b[39m \u001b[34mreadr  \u001b[39m 2.1.4     \n",
            "\n",
            "── \u001b[1mConflicts\u001b[22m ────────────────────────────────────────── tidyverse_conflicts() ──\n",
            "\u001b[31m✖\u001b[39m \u001b[34mdplyr\u001b[39m::\u001b[32mfilter()\u001b[39m masks \u001b[34mstats\u001b[39m::filter()\n",
            "\u001b[31m✖\u001b[39m \u001b[34mdplyr\u001b[39m::\u001b[32mlag()\u001b[39m    masks \u001b[34mstats\u001b[39m::lag()\n",
            "\n",
            "Loading required package: xgboost\n",
            "\n",
            "\n",
            "Attaching package: ‘xgboost’\n",
            "\n",
            "\n",
            "The following object is masked from ‘package:dplyr’:\n",
            "\n",
            "    slice\n",
            "\n",
            "\n",
            "\n",
            "Attaching package: ‘plotly’\n",
            "\n",
            "\n",
            "The following object is masked from ‘package:xgboost’:\n",
            "\n",
            "    slice\n",
            "\n",
            "\n",
            "The following object is masked from ‘package:ggplot2’:\n",
            "\n",
            "    last_plot\n",
            "\n",
            "\n",
            "The following object is masked from ‘package:stats’:\n",
            "\n",
            "    filter\n",
            "\n",
            "\n",
            "The following object is masked from ‘package:graphics’:\n",
            "\n",
            "    layout\n",
            "\n",
            "\n"
          ]
        }
      ]
    },
    {
      "cell_type": "markdown",
      "source": [
        "### Define Functions"
      ],
      "metadata": {
        "id": "oJ7Mmouj5Ddl"
      }
    },
    {
      "cell_type": "code",
      "source": [
        "## resid.plot includes an off balance for when the model overall predicts low or high\n",
        "resid.plot <- function(data,var,actual,pred,weight,rt_text,lt_text) {\n",
        "  pr1 = paste0(paste0(pred,'*'),weight)\n",
        "  \n",
        "  header = \"Actual vs Predicted; Actual Values\"\n",
        "  \n",
        "  home_plot <- data %>%\n",
        "    mutate(nt = eval(parse(text = var))) %>%\n",
        "    group_by(nt) %>%\n",
        "    summarize(  act = sum(eval(parse(text = actual)))\n",
        "                , pred = sum(eval(parse(text = pr1)))\n",
        "                , exposures = sum(eval(parse(text = weight)))\n",
        "    ) %>%\n",
        "    mutate(   actual = act/exposures\n",
        "              , predicted = pred/exposures)\n",
        "  \n",
        "  home_plot <- home_plot[complete.cases(home_plot),]\n",
        "  \n",
        "  # off balance for model total prediction\n",
        "  a1 = paste0(\"data$\",actual)\n",
        "  a2 = paste0(\"data$\",pred)\n",
        "  a3 = paste0(\"data$\",weight)\n",
        "  off_balance = sum(eval(parse(text = a1)))/sum(eval(parse(text = a2)) * eval(parse(text = a3)))\n",
        "  home_plot$predicted <- home_plot$predicted*off_balance\n",
        "  \n",
        "  par(mar=c(5, 4, 2, 5) + 0.1)\n",
        "  \n",
        "  barplot(home_plot$exposures,las=2,col=\"lightblue\",ylim = c(0,max(home_plot$exposures)*1.1))\n",
        "  par(new=TRUE)\n",
        "  plot(home_plot$nt, home_plot$actual, col='darkblue',lwd= 4, axes=FALSE, ylim=c(ifelse(min(home_plot$actual)<min(home_plot$predicted),min(home_plot$actual)*0.98,min(home_plot$predicted)*0.98),ifelse(max(home_plot$actual)>max(home_plot$predicted),max(home_plot$actual)*1.02,max(home_plot$predicted)*1.02)), xlab=\"\", ylab=\"\",main=header)\n",
        "  axis(4, ylim=c(0,1),col=\"black\",las=1)\n",
        "  axis(1, xlim=c(0,1),col=\"black\",las=1)\n",
        "  mtext(rt_text,side=4,line=3.0,col=\"black\",font=7)\n",
        "  mtext(lt_text, side = 2, line=3.0,col=\"black\",font=7)\n",
        "  box()\n",
        "  mtext(var,side=1,col=\"black\",line=2.5,font=7) \n",
        "  lines(home_plot$nt,home_plot$predicted, col=\"green\",lwd=3)  \n",
        "}\n",
        "## lift.chart does not include any off balance and creates a lift chart on test\n",
        "lift.chart <- function() {\n",
        "  lift1   <-  test %>%\n",
        "    arrange(pred) %>%\n",
        "    mutate(cs = cumsum(ee_pd))\n",
        "  \n",
        "  max_cs = max(lift1$cs)\n",
        "  \n",
        "  lift <- lift1 %>%\n",
        "    mutate(nt = floor(10*cs/(max_cs+1)) + 1) %>%\n",
        "    group_by(nt) %>%\n",
        "    summarize(eexp = sum(ee_pd),\n",
        "              act = sum(incurred_pd_cap),\n",
        "              pred = sum(pred*ee_pd)\n",
        "    ) %>%\n",
        "    mutate(\n",
        "      actual = act/eexp,\n",
        "      predicted = pred/eexp\n",
        "    )\n",
        "  \n",
        "  \n",
        "  par(mar=c(5, 4, 4, 6) + 0.1)\n",
        "  barplot(lift$eexp,las=2,col=\"lightblue\",\n",
        "          ylim = c(0,max(lift$eexp)*1.1))\n",
        "  par(new=TRUE)\n",
        "  plot(as.numeric(lift$nt), lift$actual, col='darkblue',lwd=4, axes=FALSE, ylim=c(min(lift$actual)*0.9,max(lift$actual)*1.25), xlab=\"\", ylab=\"\", \n",
        "       main=\"Pure Premium Lift Chart; PD\")\n",
        "  axis(4, ylim=c(0,1),col=\"black\",las=1)  ## las=1 makes horizontal labels\n",
        "  mtext(\"Pure Premium\",side=4,line=3.0,col=\"black\",font=7)\n",
        "  mtext(\"Earned Exposures\", side = 2, line=3.0,col=\"black\",font=7)\n",
        "  box()\n",
        "  axis(1,lift$nt)\n",
        "  mtext(\"Predicted Pure Premium\",side=1,col=\"black\",line=2.5,font=7) \n",
        "  lines(lift$nt,lift$predicted, col=\"green\",lwd=3)\n",
        "}"
      ],
      "metadata": {
        "id": "CAGYzxcJ7GXm"
      },
      "execution_count": 3,
      "outputs": []
    },
    {
      "cell_type": "markdown",
      "source": [
        "### Round 1 - Preliminary Fit with Basic Assumptions"
      ],
      "metadata": {
        "id": "vL8BT2Am0t-o"
      }
    },
    {
      "cell_type": "code",
      "source": [
        "# Import Data\n",
        "path <- \"https://raw.github.com/RuthlessActuary2023/CAS_RPM_2023/master/gbm_data_rpm_2023_1M_v3.zip\"\n",
        "temp <- tempfile()\n",
        "download.file(path, temp)\n",
        "unzip(temp, \"gbm_data_rpm_2023_1M_v3.csv\")\n",
        "gbm_data <- read.csv(\"gbm_data_rpm_2023_1M_v3.csv\")\n",
        "unlink(temp)\n",
        "\n",
        "gbm_data = subset(gbm_data, select = -c(rand) )\n",
        "gbm_data$pp_pd <- gbm_data$incurred_pd_cap / gbm_data$ee_pd\n",
        "\n",
        "# Split into train and test\n",
        "size <- floor(0.80 * nrow(gbm_data))\n",
        "set.seed(42)\n",
        "train_idx <- sample(seq_len(nrow(gbm_data)), size = size)\n",
        "train <- gbm_data[train_idx,]\n",
        "test <- gbm_data[-train_idx,]\n",
        "\n",
        "# Create Dmatrix and fit\n",
        "exclude_fields <- names(train) %in% c(\"py\",\"ee_pd\",\"incurred_pd_cap\",\"claim_count_pd\",\"pp_pd\")\n",
        "train2 <- train[!exclude_fields]\n",
        "test2 <- test[!exclude_fields]\n",
        "\n",
        "dtrain <- xgb.DMatrix(data = as.matrix(train2)\n",
        "                      , label = train$pp_pd\n",
        "                      , weight = train$ee_pd\n",
        "                      )\n",
        "dtest <- xgb.DMatrix(data = as.matrix(test2)\n",
        "                      , label = test$pp_pd\n",
        "                      , weight = test$ee_pd\n",
        ")\n",
        "\n",
        "model <- xgboost(\n",
        "  data = dtrain, \n",
        "  max.depth = 6, # max number of splits per tree\n",
        "  eta = .05, #learning rate\n",
        "  nthread = 4, # parallel threads\n",
        "  nrounds = 50, # trees\n",
        "  min_split_loss = 0, #minimum loss required to continue splitting\n",
        "  min_child_weight = 0, #minimum weight required to continue splitting\n",
        "  subsample = 1, #how much of train to use when building\n",
        "  lambda = 1, #L2\n",
        "  alpha = 0, #L1\n",
        "  tree_method = 'hist', #approx, hist are other options for faster processing (use hist for parameter optimization)\n",
        "  # monotone_constraints = ,# need to set this up\n",
        "  base_score = sum(gbm_data$incurred_pd_cap)/sum(gbm_data$ee_pd),\n",
        "  objective = \"reg:tweedie\",\n",
        "  tweedie_variance_power = 1.5,\n",
        "  verbose = 0\n",
        "  )\n",
        "\n",
        "train$pred <- predict(model,dtrain)\n",
        "test$pred <- predict(model,dtest)\n",
        "\n",
        "# Feature Importance & Residual Plots\n",
        "importance_matrix = xgb.importance(colnames(dtrain), model = model)\n",
        "importance_matrix = subset(importance_matrix, select = c(Feature,Gain))\n",
        "lst = unique(importance_matrix[order(Gain),]$Feature) # Reverse order for plots\n",
        "\n",
        "for (l in lst) {\n",
        "  resid.plot(train,l,\"incurred_pd_cap\",\"pred\",\"ee_pd\",\"Pure Premium\",\"Earned Exposure\")\n",
        "}\n",
        "  \n",
        "xgb.plot.importance(importance_matrix)\n",
        "\n",
        "# Lift Chart\n",
        "lift.chart()"
      ],
      "metadata": {
        "id": "WNSTmb5x7GdC",
        "colab": {
          "base_uri": "https://localhost:8080/",
          "height": 183
        },
        "outputId": "35d9107d-9a2b-4c36-d17f-ac79f72b06ba"
      },
      "execution_count": 4,
      "outputs": [
        {
          "output_type": "error",
          "ename": "ERROR",
          "evalue": "ignored",
          "traceback": [
            "Error in xgb.DMatrix(data = as.matrix(train2), label = train$pp_pd, weight = train$ee_pd): 'data' has class 'character' and length 65600000.\n  'data' accepts either a numeric matrix or a single filename.\nTraceback:\n",
            "1. xgb.DMatrix(data = as.matrix(train2), label = train$pp_pd, weight = train$ee_pd)",
            "2. stop(\"'data' has class 'character' and length \", length(data), \n .     \".\\n  'data' accepts either a numeric matrix or a single filename.\")"
          ]
        }
      ]
    },
    {
      "cell_type": "code",
      "source": [],
      "metadata": {
        "id": "jbop5Vvx7Gfh"
      },
      "execution_count": null,
      "outputs": []
    },
    {
      "cell_type": "code",
      "source": [],
      "metadata": {
        "id": "vsplmPpT7GiT"
      },
      "execution_count": null,
      "outputs": []
    },
    {
      "cell_type": "code",
      "source": [],
      "metadata": {
        "id": "PJS2PEr77Gk3"
      },
      "execution_count": null,
      "outputs": []
    },
    {
      "cell_type": "code",
      "source": [],
      "metadata": {
        "id": "Msl-7khZ7Gny"
      },
      "execution_count": null,
      "outputs": []
    },
    {
      "cell_type": "code",
      "source": [],
      "metadata": {
        "id": "MMllEgAR7Gqr"
      },
      "execution_count": null,
      "outputs": []
    },
    {
      "cell_type": "code",
      "source": [],
      "metadata": {
        "id": "HxkyQTPx5KH1"
      },
      "execution_count": null,
      "outputs": []
    }
  ]
}